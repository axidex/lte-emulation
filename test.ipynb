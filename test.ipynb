{
 "cells": [
  {
   "cell_type": "code",
   "execution_count": 1,
   "metadata": {},
   "outputs": [
    {
     "data": {
      "text/plain": [
       "<Quality.NORMAL: 2>"
      ]
     },
     "execution_count": 1,
     "metadata": {},
     "output_type": "execute_result"
    }
   ],
   "source": [
    "from src.dataclasses.quality import Quality\n",
    "Quality(2)"
   ]
  },
  {
   "cell_type": "code",
   "execution_count": 26,
   "metadata": {},
   "outputs": [
    {
     "name": "stdout",
     "output_type": "stream",
     "text": [
      "123\n"
     ]
    }
   ],
   "source": [
    "from random import randint\n",
    "\n",
    "q1 = Quality(3)\n",
    "q2 = Quality(2)\n",
    "if q1.value > q2.value:\n",
    "    print(123)"
   ]
  },
  {
   "cell_type": "code",
   "execution_count": 6,
   "metadata": {},
   "outputs": [],
   "source": [
    "from dataclasses import dataclass\n",
    "\n",
    "from src.dataclasses.pgw import PGW\n",
    "from src.dataclasses.pcrf import PCRF\n",
    "from src.protocols.protocol import Protocol\n",
    "\n",
    "@dataclass(frozen=True)\n",
    "class SGW:\n",
    "    \"\"\"Serving GateWay\"\"\"\n",
    "\n",
    "    sgw_id: int\n",
    "    pgw: PGW\n",
    "    pcrf: PCRF\n",
    "    \n",
    "    protocols: list[Protocol]\n",
    "\n",
    "    def __hash__(self):\n",
    "        return hash(self.sgw_id)"
   ]
  },
  {
   "cell_type": "code",
   "execution_count": 7,
   "metadata": {},
   "outputs": [
    {
     "name": "stdout",
     "output_type": "stream",
     "text": [
      "{SGW(sgw_id=1, pgw=<src.dataclasses.pgw.PGW object at 0x000001CAE6AE4820>, pcrf=<src.dataclasses.pcrf.PCRF object at 0x000001CAE6A9ADA0>, protocols=[<src.protocols.udp.UDP object at 0x000001CAE6A9B9A0>])}\n"
     ]
    }
   ],
   "source": [
    "from src.dataclasses.pgw import PGW\n",
    "from src.dataclasses.pcrf import PCRF\n",
    "from src.protocols.udp import UDP\n",
    "\n",
    "sgws = [SGW(sgw_id=1, pgw=PGW(pgw_id=1), pcrf=PCRF(), protocols=[UDP()])]\n",
    "print(set(sgws))"
   ]
  },
  {
   "cell_type": "code",
   "execution_count": 29,
   "metadata": {},
   "outputs": [
    {
     "data": {
      "text/plain": [
       "{12, 23}"
      ]
     },
     "execution_count": 29,
     "metadata": {},
     "output_type": "execute_result"
    }
   ],
   "source": []
  }
 ],
 "metadata": {
  "kernelspec": {
   "display_name": "Python 3",
   "language": "python",
   "name": "python3"
  },
  "language_info": {
   "codemirror_mode": {
    "name": "ipython",
    "version": 3
   },
   "file_extension": ".py",
   "mimetype": "text/x-python",
   "name": "python",
   "nbconvert_exporter": "python",
   "pygments_lexer": "ipython3",
   "version": "3.10.0"
  }
 },
 "nbformat": 4,
 "nbformat_minor": 2
}
